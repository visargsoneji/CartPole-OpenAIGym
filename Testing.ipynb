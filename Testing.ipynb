{
 "cells": [
  {
   "cell_type": "code",
   "execution_count": null,
   "metadata": {},
   "outputs": [],
   "source": [
    "#notebook by Visarg,Avil and Aryan"
   ]
  },
  {
   "cell_type": "code",
   "execution_count": null,
   "metadata": {},
   "outputs": [],
   "source": [
    "#testing code\n",
    "#currently it is ready for task1 and task2\n",
    "#to test for task3 change the second argument in test() to 'model_t3.h5' while calling it"
   ]
  },
  {
   "cell_type": "code",
   "execution_count": null,
   "metadata": {},
   "outputs": [],
   "source": [
    "#The output will be Scores for all Episodes,Average score and a graph(Episodes v/s Score) with a dashed average line."
   ]
  },
  {
   "cell_type": "code",
   "execution_count": null,
   "metadata": {},
   "outputs": [],
   "source": [
    "# --versions--\n",
    "# numpy==1.18.2\n",
    "# gym==0.17.1\n",
    "# Keras==2.3.1\n",
    "# Keras-Applications==1.0.8\n",
    "# Keras-Preprocessing==1.1.0\n",
    "# tensorboard==2.1.1\n",
    "# tensorflow==2.1.0\n",
    "# tensorflow-estimator==2.1.0\n",
    "# matplotlib==3.2.1"
   ]
  },
  {
   "cell_type": "code",
   "execution_count": 1,
   "metadata": {},
   "outputs": [
    {
     "name": "stderr",
     "output_type": "stream",
     "text": [
      "Using TensorFlow backend.\n"
     ]
    }
   ],
   "source": [
    "import numpy as np\n",
    "import gym\n",
    "from keras.models import load_model\n",
    "from statistics import mean\n",
    "import matplotlib.pyplot as plt"
   ]
  },
  {
   "cell_type": "code",
   "execution_count": 4,
   "metadata": {},
   "outputs": [],
   "source": [
    "def test(epi,model_name):\n",
    "    env = gym.make('CartPole-v1')\n",
    "    model = load_model(model_name)\n",
    "    episodes=[]\n",
    "    scores=[]\n",
    "    for e in range(epi):\n",
    "        state = env.reset()\n",
    "        state = np.reshape(state,[1,4])\n",
    "        done = False\n",
    "        score = 0\n",
    "        \n",
    "        while not done:\n",
    "            action = np.argmax(model.predict(state))\n",
    "            next_state,reward,done,_ = env.step(action)\n",
    "            state = np.reshape(next_state,[1,4])\n",
    "            score+=1\n",
    "        print(\"Episode : {} , Score : {}\".format(e+1,score))\n",
    "        scores.append(score)\n",
    "        episodes.append(e+1)\n",
    "        \n",
    "    print(\"Average Score : {} \".format(mean(scores)))\n",
    "    average=[mean(scores)]*100\n",
    "    plt.figure(1)\n",
    "    plt.plot(episodes,scores)\n",
    "    plt.plot(episodes,average,linestyle='dashed')\n",
    "    plt.xlabel(\"Episodes\")\n",
    "    plt.ylabel(\"Scores\")\n",
    "    plt.title(\"Testing\")\n",
    "    plt.show()"
   ]
  },
  {
   "cell_type": "code",
   "execution_count": 5,
   "metadata": {
    "scrolled": false
   },
   "outputs": [
    {
     "name": "stdout",
     "output_type": "stream",
     "text": [
      "CartPoleEnv - Version 0.2.0, Noise case: 1\n"
     ]
    },
    {
     "name": "stderr",
     "output_type": "stream",
     "text": [
      "/home/avil/anaconda3/lib/python3.7/site-packages/gym/logger.py:30: UserWarning: \u001b[33mWARN: Box bound precision lowered by casting to float32\u001b[0m\n",
      "  warnings.warn(colorize('%s: %s'%('WARN', msg % args), 'yellow'))\n"
     ]
    },
    {
     "name": "stdout",
     "output_type": "stream",
     "text": [
      "Episode : 1 , Score : 500\n",
      "Episode : 2 , Score : 500\n",
      "Episode : 3 , Score : 500\n",
      "Episode : 4 , Score : 500\n",
      "Episode : 5 , Score : 500\n",
      "Episode : 6 , Score : 500\n",
      "Episode : 7 , Score : 500\n",
      "Episode : 8 , Score : 500\n",
      "Episode : 9 , Score : 500\n",
      "Episode : 10 , Score : 500\n",
      "Episode : 11 , Score : 500\n",
      "Episode : 12 , Score : 500\n",
      "Episode : 13 , Score : 500\n",
      "Episode : 14 , Score : 500\n",
      "Episode : 15 , Score : 500\n",
      "Episode : 16 , Score : 500\n",
      "Episode : 17 , Score : 500\n",
      "Episode : 18 , Score : 500\n",
      "Episode : 19 , Score : 500\n",
      "Episode : 20 , Score : 500\n",
      "Episode : 21 , Score : 500\n",
      "Episode : 22 , Score : 500\n",
      "Episode : 23 , Score : 500\n",
      "Episode : 24 , Score : 500\n",
      "Episode : 25 , Score : 500\n",
      "Episode : 26 , Score : 500\n",
      "Episode : 27 , Score : 500\n",
      "Episode : 28 , Score : 500\n",
      "Episode : 29 , Score : 500\n",
      "Episode : 30 , Score : 500\n",
      "Episode : 31 , Score : 500\n",
      "Episode : 32 , Score : 500\n",
      "Episode : 33 , Score : 500\n",
      "Episode : 34 , Score : 500\n",
      "Episode : 35 , Score : 500\n",
      "Episode : 36 , Score : 500\n",
      "Episode : 37 , Score : 500\n",
      "Episode : 38 , Score : 500\n",
      "Episode : 39 , Score : 500\n",
      "Episode : 40 , Score : 500\n",
      "Episode : 41 , Score : 500\n",
      "Episode : 42 , Score : 500\n",
      "Episode : 43 , Score : 500\n",
      "Episode : 44 , Score : 500\n",
      "Episode : 45 , Score : 500\n",
      "Episode : 46 , Score : 500\n",
      "Episode : 47 , Score : 500\n",
      "Episode : 48 , Score : 500\n",
      "Episode : 49 , Score : 500\n",
      "Episode : 50 , Score : 500\n",
      "Episode : 51 , Score : 500\n",
      "Episode : 52 , Score : 500\n",
      "Episode : 53 , Score : 500\n",
      "Episode : 54 , Score : 500\n",
      "Episode : 55 , Score : 500\n",
      "Episode : 56 , Score : 500\n",
      "Episode : 57 , Score : 500\n",
      "Episode : 58 , Score : 500\n",
      "Episode : 59 , Score : 500\n",
      "Episode : 60 , Score : 500\n",
      "Episode : 61 , Score : 500\n",
      "Episode : 62 , Score : 500\n",
      "Episode : 63 , Score : 500\n",
      "Episode : 64 , Score : 500\n",
      "Episode : 65 , Score : 500\n",
      "Episode : 66 , Score : 500\n",
      "Episode : 67 , Score : 500\n",
      "Episode : 68 , Score : 500\n",
      "Episode : 69 , Score : 500\n",
      "Episode : 70 , Score : 500\n",
      "Episode : 71 , Score : 500\n",
      "Episode : 72 , Score : 500\n",
      "Episode : 73 , Score : 500\n",
      "Episode : 74 , Score : 500\n",
      "Episode : 75 , Score : 500\n",
      "Episode : 76 , Score : 500\n",
      "Episode : 77 , Score : 500\n",
      "Episode : 78 , Score : 500\n",
      "Episode : 79 , Score : 500\n",
      "Episode : 80 , Score : 500\n",
      "Episode : 81 , Score : 500\n",
      "Episode : 82 , Score : 500\n",
      "Episode : 83 , Score : 500\n",
      "Episode : 84 , Score : 500\n",
      "Episode : 85 , Score : 500\n",
      "Episode : 86 , Score : 500\n",
      "Episode : 87 , Score : 500\n",
      "Episode : 88 , Score : 500\n",
      "Episode : 89 , Score : 500\n",
      "Episode : 90 , Score : 500\n",
      "Episode : 91 , Score : 500\n",
      "Episode : 92 , Score : 500\n",
      "Episode : 93 , Score : 500\n",
      "Episode : 94 , Score : 500\n",
      "Episode : 95 , Score : 500\n",
      "Episode : 96 , Score : 500\n",
      "Episode : 97 , Score : 500\n",
      "Episode : 98 , Score : 500\n",
      "Episode : 99 , Score : 500\n",
      "Episode : 100 , Score : 500\n",
      "Average Score : 500 \n"
     ]
    },
    {
     "data": {
      "image/png": "[encoded data removed]",
      "text/plain": [
       "<Figure size 432x288 with 1 Axes>"
      ]
     },
     "metadata": {
      "needs_background": "light"
     },
     "output_type": "display_data"
    }
   ],
   "source": [
    "#first argument is number of episodes one wants to test for and the other one is model name.\n",
    "test(100,'model_t3.h5') "
   ]
  },
  {
   "cell_type": "code",
   "execution_count": null,
   "metadata": {},
   "outputs": [],
   "source": []
  }
 ],
 "metadata": {
  "kernelspec": {
   "display_name": "Python 3",
   "language": "python",
   "name": "python3"
  },
  "language_info": {
   "codemirror_mode": {
    "name": "ipython",
    "version": 3
   },
   "file_extension": ".py",
   "mimetype": "text/x-python",
   "name": "python",
   "nbconvert_exporter": "python",
   "pygments_lexer": "ipython3",
   "version": "3.7.6"
  }
 },
 "nbformat": 4,
 "nbformat_minor": 4
}
